{
 "cells": [
  {
   "cell_type": "code",
   "execution_count": 1,
   "metadata": {},
   "outputs": [],
   "source": [
    "import pandas as pd\n",
    "import numpy as np\n",
    "import seaborn as sns\n",
    "import matplotlib.pyplot as plt\n",
    "%matplotlib inline"
   ]
  },
  {
   "cell_type": "code",
   "execution_count": 25,
   "metadata": {},
   "outputs": [
    {
     "data": {
      "text/html": [
       "<div>\n",
       "<style scoped>\n",
       "    .dataframe tbody tr th:only-of-type {\n",
       "        vertical-align: middle;\n",
       "    }\n",
       "\n",
       "    .dataframe tbody tr th {\n",
       "        vertical-align: top;\n",
       "    }\n",
       "\n",
       "    .dataframe thead th {\n",
       "        text-align: right;\n",
       "    }\n",
       "</style>\n",
       "<table border=\"1\" class=\"dataframe\">\n",
       "  <thead>\n",
       "    <tr style=\"text-align: right;\">\n",
       "      <th></th>\n",
       "      <th>Div</th>\n",
       "      <th>Date</th>\n",
       "      <th>HomeTeam</th>\n",
       "      <th>AwayTeam</th>\n",
       "      <th>FTHG</th>\n",
       "      <th>FTAG</th>\n",
       "      <th>FTR</th>\n",
       "      <th>HTHG</th>\n",
       "      <th>HTAG</th>\n",
       "      <th>HTR</th>\n",
       "      <th>...</th>\n",
       "      <th>BbAv&lt;2.5</th>\n",
       "      <th>BbAH</th>\n",
       "      <th>BbAHh</th>\n",
       "      <th>BbMxAHH</th>\n",
       "      <th>BbAvAHH</th>\n",
       "      <th>BbMxAHA</th>\n",
       "      <th>BbAvAHA</th>\n",
       "      <th>PSCH</th>\n",
       "      <th>PSCD</th>\n",
       "      <th>PSCA</th>\n",
       "    </tr>\n",
       "  </thead>\n",
       "  <tbody>\n",
       "    <tr>\n",
       "      <th>0</th>\n",
       "      <td>E0</td>\n",
       "      <td>11/08/2017</td>\n",
       "      <td>Arsenal</td>\n",
       "      <td>Leicester</td>\n",
       "      <td>4</td>\n",
       "      <td>3</td>\n",
       "      <td>H</td>\n",
       "      <td>2</td>\n",
       "      <td>2</td>\n",
       "      <td>D</td>\n",
       "      <td>...</td>\n",
       "      <td>2.32</td>\n",
       "      <td>21</td>\n",
       "      <td>-1.00</td>\n",
       "      <td>1.91</td>\n",
       "      <td>1.85</td>\n",
       "      <td>2.10</td>\n",
       "      <td>2.02</td>\n",
       "      <td>1.49</td>\n",
       "      <td>4.73</td>\n",
       "      <td>7.25</td>\n",
       "    </tr>\n",
       "    <tr>\n",
       "      <th>1</th>\n",
       "      <td>E0</td>\n",
       "      <td>12/08/2017</td>\n",
       "      <td>Brighton</td>\n",
       "      <td>Man City</td>\n",
       "      <td>0</td>\n",
       "      <td>2</td>\n",
       "      <td>A</td>\n",
       "      <td>0</td>\n",
       "      <td>0</td>\n",
       "      <td>D</td>\n",
       "      <td>...</td>\n",
       "      <td>2.27</td>\n",
       "      <td>20</td>\n",
       "      <td>1.50</td>\n",
       "      <td>1.95</td>\n",
       "      <td>1.91</td>\n",
       "      <td>2.01</td>\n",
       "      <td>1.96</td>\n",
       "      <td>11.75</td>\n",
       "      <td>6.15</td>\n",
       "      <td>1.29</td>\n",
       "    </tr>\n",
       "    <tr>\n",
       "      <th>2</th>\n",
       "      <td>E0</td>\n",
       "      <td>12/08/2017</td>\n",
       "      <td>Chelsea</td>\n",
       "      <td>Burnley</td>\n",
       "      <td>2</td>\n",
       "      <td>3</td>\n",
       "      <td>A</td>\n",
       "      <td>0</td>\n",
       "      <td>3</td>\n",
       "      <td>A</td>\n",
       "      <td>...</td>\n",
       "      <td>2.23</td>\n",
       "      <td>20</td>\n",
       "      <td>-1.75</td>\n",
       "      <td>2.03</td>\n",
       "      <td>1.97</td>\n",
       "      <td>1.95</td>\n",
       "      <td>1.90</td>\n",
       "      <td>1.33</td>\n",
       "      <td>5.40</td>\n",
       "      <td>12.25</td>\n",
       "    </tr>\n",
       "    <tr>\n",
       "      <th>3</th>\n",
       "      <td>E0</td>\n",
       "      <td>12/08/2017</td>\n",
       "      <td>Crystal Palace</td>\n",
       "      <td>Huddersfield</td>\n",
       "      <td>0</td>\n",
       "      <td>3</td>\n",
       "      <td>A</td>\n",
       "      <td>0</td>\n",
       "      <td>2</td>\n",
       "      <td>A</td>\n",
       "      <td>...</td>\n",
       "      <td>1.72</td>\n",
       "      <td>18</td>\n",
       "      <td>-0.75</td>\n",
       "      <td>2.10</td>\n",
       "      <td>2.05</td>\n",
       "      <td>1.86</td>\n",
       "      <td>1.83</td>\n",
       "      <td>1.79</td>\n",
       "      <td>3.56</td>\n",
       "      <td>5.51</td>\n",
       "    </tr>\n",
       "    <tr>\n",
       "      <th>4</th>\n",
       "      <td>E0</td>\n",
       "      <td>12/08/2017</td>\n",
       "      <td>Everton</td>\n",
       "      <td>Stoke</td>\n",
       "      <td>1</td>\n",
       "      <td>0</td>\n",
       "      <td>H</td>\n",
       "      <td>1</td>\n",
       "      <td>0</td>\n",
       "      <td>H</td>\n",
       "      <td>...</td>\n",
       "      <td>1.76</td>\n",
       "      <td>19</td>\n",
       "      <td>-0.75</td>\n",
       "      <td>1.94</td>\n",
       "      <td>1.90</td>\n",
       "      <td>2.01</td>\n",
       "      <td>1.98</td>\n",
       "      <td>1.82</td>\n",
       "      <td>3.49</td>\n",
       "      <td>5.42</td>\n",
       "    </tr>\n",
       "  </tbody>\n",
       "</table>\n",
       "<p>5 rows × 65 columns</p>\n",
       "</div>"
      ],
      "text/plain": [
       "  Div        Date        HomeTeam      AwayTeam  FTHG  FTAG FTR  HTHG  HTAG  \\\n",
       "0  E0  11/08/2017         Arsenal     Leicester     4     3   H     2     2   \n",
       "1  E0  12/08/2017        Brighton      Man City     0     2   A     0     0   \n",
       "2  E0  12/08/2017         Chelsea       Burnley     2     3   A     0     3   \n",
       "3  E0  12/08/2017  Crystal Palace  Huddersfield     0     3   A     0     2   \n",
       "4  E0  12/08/2017         Everton         Stoke     1     0   H     1     0   \n",
       "\n",
       "  HTR  ... BbAv<2.5  BbAH  BbAHh  BbMxAHH  BbAvAHH  BbMxAHA  BbAvAHA   PSCH  \\\n",
       "0   D  ...     2.32    21  -1.00     1.91     1.85     2.10     2.02   1.49   \n",
       "1   D  ...     2.27    20   1.50     1.95     1.91     2.01     1.96  11.75   \n",
       "2   A  ...     2.23    20  -1.75     2.03     1.97     1.95     1.90   1.33   \n",
       "3   A  ...     1.72    18  -0.75     2.10     2.05     1.86     1.83   1.79   \n",
       "4   H  ...     1.76    19  -0.75     1.94     1.90     2.01     1.98   1.82   \n",
       "\n",
       "   PSCD   PSCA  \n",
       "0  4.73   7.25  \n",
       "1  6.15   1.29  \n",
       "2  5.40  12.25  \n",
       "3  3.56   5.51  \n",
       "4  3.49   5.42  \n",
       "\n",
       "[5 rows x 65 columns]"
      ]
     },
     "execution_count": 25,
     "metadata": {},
     "output_type": "execute_result"
    }
   ],
   "source": [
    "data = pd.read_csv(\"EPL17-18.csv\")\n",
    "data.head()"
   ]
  },
  {
   "cell_type": "code",
   "execution_count": 26,
   "metadata": {},
   "outputs": [
    {
     "data": {
      "text/plain": [
       "380"
      ]
     },
     "execution_count": 26,
     "metadata": {},
     "output_type": "execute_result"
    }
   ],
   "source": [
    "len(data)"
   ]
  },
  {
   "cell_type": "code",
   "execution_count": 27,
   "metadata": {},
   "outputs": [
    {
     "data": {
      "text/plain": [
       "Index(['Div', 'Date', 'HomeTeam', 'AwayTeam', 'FTHG', 'FTAG', 'FTR', 'HTHG',\n",
       "       'HTAG', 'HTR', 'Referee', 'HS', 'AS', 'HST', 'AST', 'HF', 'AF', 'HC',\n",
       "       'AC', 'HY', 'AY', 'HR', 'AR', 'B365H', 'B365D', 'B365A', 'BWH', 'BWD',\n",
       "       'BWA', 'IWH', 'IWD', 'IWA', 'LBH', 'LBD', 'LBA', 'PSH', 'PSD', 'PSA',\n",
       "       'WHH', 'WHD', 'WHA', 'VCH', 'VCD', 'VCA', 'Bb1X2', 'BbMxH', 'BbAvH',\n",
       "       'BbMxD', 'BbAvD', 'BbMxA', 'BbAvA', 'BbOU', 'BbMx>2.5', 'BbAv>2.5',\n",
       "       'BbMx<2.5', 'BbAv<2.5', 'BbAH', 'BbAHh', 'BbMxAHH', 'BbAvAHH',\n",
       "       'BbMxAHA', 'BbAvAHA', 'PSCH', 'PSCD', 'PSCA'],\n",
       "      dtype='object')"
      ]
     },
     "execution_count": 27,
     "metadata": {},
     "output_type": "execute_result"
    }
   ],
   "source": [
    "data.columns"
   ]
  },
  {
   "cell_type": "code",
   "execution_count": 28,
   "metadata": {},
   "outputs": [],
   "source": [
    "Teams = data.HomeTeam.unique()"
   ]
  },
  {
   "cell_type": "code",
   "execution_count": 29,
   "metadata": {},
   "outputs": [
    {
     "data": {
      "text/plain": [
       "array(['Arsenal', 'Brighton', 'Chelsea', 'Crystal Palace', 'Everton',\n",
       "       'Southampton', 'Watford', 'West Brom', 'Man United', 'Newcastle',\n",
       "       'Bournemouth', 'Burnley', 'Leicester', 'Liverpool', 'Stoke',\n",
       "       'Swansea', 'Huddersfield', 'Tottenham', 'Man City', 'West Ham'],\n",
       "      dtype=object)"
      ]
     },
     "execution_count": 29,
     "metadata": {},
     "output_type": "execute_result"
    }
   ],
   "source": [
    "Teams"
   ]
  },
  {
   "cell_type": "markdown",
   "metadata": {},
   "source": [
    "Create a dictionary called TeamLists. There will be an entry for each team with the list [0]"
   ]
  },
  {
   "cell_type": "code",
   "execution_count": 30,
   "metadata": {},
   "outputs": [
    {
     "data": {
      "text/plain": [
       "{'Arsenal': [0],\n",
       " 'Brighton': [0],\n",
       " 'Chelsea': [0],\n",
       " 'Crystal Palace': [0],\n",
       " 'Everton': [0],\n",
       " 'Southampton': [0],\n",
       " 'Watford': [0],\n",
       " 'West Brom': [0],\n",
       " 'Man United': [0],\n",
       " 'Newcastle': [0],\n",
       " 'Bournemouth': [0],\n",
       " 'Burnley': [0],\n",
       " 'Leicester': [0],\n",
       " 'Liverpool': [0],\n",
       " 'Stoke': [0],\n",
       " 'Swansea': [0],\n",
       " 'Huddersfield': [0],\n",
       " 'Tottenham': [0],\n",
       " 'Man City': [0],\n",
       " 'West Ham': [0]}"
      ]
     },
     "execution_count": 30,
     "metadata": {},
     "output_type": "execute_result"
    }
   ],
   "source": [
    "TeamLists = {Team: [0] for Team in Teams}\n",
    "TeamLists"
   ]
  },
  {
   "cell_type": "code",
   "execution_count": 31,
   "metadata": {},
   "outputs": [],
   "source": [
    "for row in data.itertuples():\n",
    "    \n",
    "    Home = row.HomeTeam\n",
    "    Away = row.AwayTeam\n",
    "    \n",
    "    if row.FTHG > row.FTAG:\n",
    "        TeamLists[Home].append(3)\n",
    "        TeamLists[Away].append(0)\n",
    "        \n",
    "    \n",
    "    elif row.FTHG < row.FTAG:\n",
    "        TeamLists[Home].append(0)\n",
    "        TeamLists[Away].append(3)\n",
    "        \n",
    "        \n",
    "    else:\n",
    "        TeamLists[Home].append(1)\n",
    "        TeamLists[Away].append(1)"
   ]
  },
  {
   "cell_type": "code",
   "execution_count": 32,
   "metadata": {},
   "outputs": [
    {
     "data": {
      "text/plain": [
       "[0,\n",
       " 3,\n",
       " 0,\n",
       " 0,\n",
       " 3,\n",
       " 1,\n",
       " 3,\n",
       " 3,\n",
       " 0,\n",
       " 3,\n",
       " 3,\n",
       " 0,\n",
       " 3,\n",
       " 3,\n",
       " 3,\n",
       " 0,\n",
       " 1,\n",
       " 1,\n",
       " 3,\n",
       " 1,\n",
       " 3,\n",
       " 1,\n",
       " 1,\n",
       " 0,\n",
       " 3,\n",
       " 0,\n",
       " 3,\n",
       " 0,\n",
       " 0,\n",
       " 0,\n",
       " 3,\n",
       " 3,\n",
       " 3,\n",
       " 0,\n",
       " 3,\n",
       " 0,\n",
       " 3,\n",
       " 0,\n",
       " 3]"
      ]
     },
     "execution_count": 32,
     "metadata": {},
     "output_type": "execute_result"
    }
   ],
   "source": [
    "TeamLists['Arsenal']"
   ]
  },
  {
   "cell_type": "code",
   "execution_count": 37,
   "metadata": {},
   "outputs": [],
   "source": [
    "TeamList = {Team: [0] for Team in Teams}\n",
    "TeamList\n",
    "\n",
    "\n",
    "for row in data.itertuples():\n",
    "    \n",
    "    Home = row.HomeTeam\n",
    "    Away = row.AwayTeam\n",
    "    \n",
    "    if row.FTHG > row.FTAG:\n",
    "        TeamList[Home].append(TeamList[Home][-1]+3)\n",
    "        TeamList[Away].append(TeamList[Away][-1]+0)\n",
    "        \n",
    "    \n",
    "    elif row.FTHG < row.FTAG:\n",
    "        TeamList[Home].append(TeamList[Home][-1]+0)\n",
    "        TeamList[Away].append(TeamList[Away][-1]+3)\n",
    "        \n",
    "        \n",
    "    else:\n",
    "        TeamList[Home].append(TeamList[Home][-1]+1)\n",
    "        TeamList[Away].append(TeamList[Away][-1]+1)"
   ]
  },
  {
   "cell_type": "code",
   "execution_count": 38,
   "metadata": {},
   "outputs": [
    {
     "data": {
      "text/plain": [
       "[0,\n",
       " 3,\n",
       " 3,\n",
       " 3,\n",
       " 6,\n",
       " 7,\n",
       " 10,\n",
       " 13,\n",
       " 13,\n",
       " 16,\n",
       " 19,\n",
       " 19,\n",
       " 22,\n",
       " 25,\n",
       " 28,\n",
       " 28,\n",
       " 29,\n",
       " 30,\n",
       " 33,\n",
       " 34,\n",
       " 37,\n",
       " 38,\n",
       " 39,\n",
       " 39,\n",
       " 42,\n",
       " 42,\n",
       " 45,\n",
       " 45,\n",
       " 45,\n",
       " 45,\n",
       " 48,\n",
       " 51,\n",
       " 54,\n",
       " 54,\n",
       " 57,\n",
       " 57,\n",
       " 60,\n",
       " 60,\n",
       " 63]"
      ]
     },
     "execution_count": 38,
     "metadata": {},
     "output_type": "execute_result"
    }
   ],
   "source": [
    "TeamList['Arsenal']"
   ]
  },
  {
   "cell_type": "code",
   "execution_count": 39,
   "metadata": {},
   "outputs": [
    {
     "data": {
      "text/plain": [
       "[0,\n",
       " 1,\n",
       " 2,\n",
       " 3,\n",
       " 4,\n",
       " 5,\n",
       " 6,\n",
       " 7,\n",
       " 8,\n",
       " 9,\n",
       " 10,\n",
       " 11,\n",
       " 12,\n",
       " 13,\n",
       " 14,\n",
       " 15,\n",
       " 16,\n",
       " 17,\n",
       " 18,\n",
       " 19,\n",
       " 20,\n",
       " 21,\n",
       " 22,\n",
       " 23,\n",
       " 24,\n",
       " 25,\n",
       " 26,\n",
       " 27,\n",
       " 28,\n",
       " 29,\n",
       " 30,\n",
       " 31,\n",
       " 32,\n",
       " 33,\n",
       " 34,\n",
       " 35,\n",
       " 36,\n",
       " 37,\n",
       " 38]"
      ]
     },
     "execution_count": 39,
     "metadata": {},
     "output_type": "execute_result"
    }
   ],
   "source": [
    "Matchday = list(range(0,39))\n",
    "Matchday"
   ]
  },
  {
   "cell_type": "code",
   "execution_count": 45,
   "metadata": {},
   "outputs": [
    {
     "data": {
      "text/plain": [
       "<matplotlib.legend.Legend at 0x1d844a87808>"
      ]
     },
     "execution_count": 45,
     "metadata": {},
     "output_type": "execute_result"
    },
    {
     "data": {
      "image/png": "[encoded data removed]",
      "text/plain": [
       "<Figure size 432x288 with 1 Axes>"
      ]
     },
     "metadata": {
      "needs_background": "light"
     },
     "output_type": "display_data"
    }
   ],
   "source": [
    "plt.plot(Matchday,TeamList[\"Arsenal\"],label='Arsenal')\n",
    "plt.plot(Matchday,TeamList[\"Chelsea\"],label='Chelsea')\n",
    "plt.title(\"Arsenal and Man U Comparison\")\n",
    "plt.xlabel(\"MatchDay\")\n",
    "plt.ylabel(\"Points\")\n",
    "plt.legend(loc=\"upper left\")"
   ]
  },
  {
   "cell_type": "code",
   "execution_count": 50,
   "metadata": {},
   "outputs": [
    {
     "data": {
      "image/png": "[encoded data removed]",
      "text/plain": [
       "<Figure size 432x288 with 1 Axes>"
      ]
     },
     "metadata": {
      "needs_background": "light"
     },
     "output_type": "display_data"
    }
   ],
   "source": [
    "fig,ax = plt.subplots()\n",
    "\n",
    "plt.plot(Matchday,TeamList[\"Arsenal\"],label='Arsenal',color = \"#6CABDD\", linewidth=2)\n",
    "plt.plot(Matchday,TeamList[\"Chelsea\"],label='Chelsea',color = \"#231F20\", linewidth=2)\n",
    "plt.title(\"Arsenal and Man U Comparison\")\n",
    "plt.xlabel(\"MatchDay\")\n",
    "plt.ylabel(\"Points\")\n",
    "plt.legend(loc=\"upper left\")\n",
    "\n",
    "plt.grid()\n",
    "ax.xaxis.grid(color = \"#F8F8F8\")\n",
    "ax.yaxis.grid(color = \"#F9F9F9\")\n",
    "\n",
    "plt.margins(x=0,y=0)\n",
    "\n",
    "ax.spines['right'].set_visible(False)\n",
    "ax.spines['top'].set_visible(False)"
   ]
  },
  {
   "cell_type": "code",
   "execution_count": 52,
   "metadata": {},
   "outputs": [
    {
     "data": {
      "image/png": "[encoded data removed]",
      "text/plain": [
       "<Figure size 432x288 with 1 Axes>"
      ]
     },
     "metadata": {
      "needs_background": "light"
     },
     "output_type": "display_data"
    }
   ],
   "source": [
    "fig,ax = plt.subplots()\n",
    "\n",
    "plt.plot(Matchday,TeamList[\"Man City\"],label='Man City',color = \"#6CABDD\", linewidth=2)\n",
    "plt.plot(Matchday,TeamList[\"Liverpool\"],label='Liverpool',color = \"#231F20\", linewidth=2)\n",
    "plt.title(\"Points Comparison\")\n",
    "plt.xlabel(\"MatchDay\")\n",
    "plt.ylabel(\"Points\")\n",
    "plt.legend(loc=\"upper left\")\n",
    "\n",
    "plt.grid()\n",
    "ax.xaxis.grid(color = \"#F8F8F8\")\n",
    "ax.yaxis.grid(color = \"#F9F9F9\")\n",
    "\n",
    "plt.margins(x=0,y=0)\n",
    "\n",
    "ax.spines['right'].set_visible(False)\n",
    "ax.spines['top'].set_visible(False)"
   ]
  },
  {
   "cell_type": "code",
   "execution_count": null,
   "metadata": {},
   "outputs": [],
   "source": []
  }
 ],
 "metadata": {
  "kernelspec": {
   "display_name": "Python 3",
   "language": "python",
   "name": "python3"
  },
  "language_info": {
   "codemirror_mode": {
    "name": "ipython",
    "version": 3
   },
   "file_extension": ".py",
   "mimetype": "text/x-python",
   "name": "python",
   "nbconvert_exporter": "python",
   "pygments_lexer": "ipython3",
   "version": "3.7.6"
  }
 },
 "nbformat": 4,
 "nbformat_minor": 4
}
