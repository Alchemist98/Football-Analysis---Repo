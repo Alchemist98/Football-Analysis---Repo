{
 "cells": [
  {
   "cell_type": "code",
   "execution_count": 8,
   "metadata": {},
   "outputs": [],
   "source": [
    "import pandas as pd\n",
    "import matplotlib.pyplot as plt\n",
    "from matplotlib.patches import Arc,Rectangle,ConnectionPatch"
   ]
  },
  {
   "cell_type": "code",
   "execution_count": 9,
   "metadata": {},
   "outputs": [
    {
     "data": {
      "text/html": [
       "<div>\n",
       "<style scoped>\n",
       "    .dataframe tbody tr th:only-of-type {\n",
       "        vertical-align: middle;\n",
       "    }\n",
       "\n",
       "    .dataframe tbody tr th {\n",
       "        vertical-align: top;\n",
       "    }\n",
       "\n",
       "    .dataframe thead th {\n",
       "        text-align: right;\n",
       "    }\n",
       "</style>\n",
       "<table border=\"1\" class=\"dataframe\">\n",
       "  <thead>\n",
       "    <tr style=\"text-align: right;\">\n",
       "      <th></th>\n",
       "      <th>Name</th>\n",
       "      <th>Situation</th>\n",
       "      <th>Result</th>\n",
       "      <th>Team</th>\n",
       "      <th>XSTART</th>\n",
       "      <th>YSTART</th>\n",
       "    </tr>\n",
       "  </thead>\n",
       "  <tbody>\n",
       "    <tr>\n",
       "      <th>0</th>\n",
       "      <td>Aubameyang</td>\n",
       "      <td>OpenPlay</td>\n",
       "      <td>Saved</td>\n",
       "      <td>Arsenal</td>\n",
       "      <td>113</td>\n",
       "      <td>40</td>\n",
       "    </tr>\n",
       "    <tr>\n",
       "      <th>1</th>\n",
       "      <td>Aubameyang</td>\n",
       "      <td>Free Kick</td>\n",
       "      <td>Saved</td>\n",
       "      <td>Arsenal</td>\n",
       "      <td>96</td>\n",
       "      <td>51</td>\n",
       "    </tr>\n",
       "    <tr>\n",
       "      <th>2</th>\n",
       "      <td>Aubameyang</td>\n",
       "      <td>OpenPlay</td>\n",
       "      <td>Goal</td>\n",
       "      <td>Arsenal</td>\n",
       "      <td>115</td>\n",
       "      <td>41</td>\n",
       "    </tr>\n",
       "    <tr>\n",
       "      <th>3</th>\n",
       "      <td>Aubameyang</td>\n",
       "      <td>OpenPlay</td>\n",
       "      <td>Goal</td>\n",
       "      <td>Arsenal</td>\n",
       "      <td>116</td>\n",
       "      <td>39</td>\n",
       "    </tr>\n",
       "    <tr>\n",
       "      <th>4</th>\n",
       "      <td>Aubameyang</td>\n",
       "      <td>Free Kick</td>\n",
       "      <td>Goal</td>\n",
       "      <td>Arsenal</td>\n",
       "      <td>95</td>\n",
       "      <td>53</td>\n",
       "    </tr>\n",
       "    <tr>\n",
       "      <th>5</th>\n",
       "      <td>Aubameyang</td>\n",
       "      <td>Penalty</td>\n",
       "      <td>Goal</td>\n",
       "      <td>Arsenal</td>\n",
       "      <td>112</td>\n",
       "      <td>40</td>\n",
       "    </tr>\n",
       "    <tr>\n",
       "      <th>6</th>\n",
       "      <td>Aubameyang</td>\n",
       "      <td>Penalty</td>\n",
       "      <td>Goal</td>\n",
       "      <td>Arsenal</td>\n",
       "      <td>112</td>\n",
       "      <td>40</td>\n",
       "    </tr>\n",
       "    <tr>\n",
       "      <th>7</th>\n",
       "      <td>Aubameyang</td>\n",
       "      <td>Corner</td>\n",
       "      <td>Saved</td>\n",
       "      <td>Arsenal</td>\n",
       "      <td>118</td>\n",
       "      <td>43</td>\n",
       "    </tr>\n",
       "    <tr>\n",
       "      <th>8</th>\n",
       "      <td>Aubameyang</td>\n",
       "      <td>Corner</td>\n",
       "      <td>Goal</td>\n",
       "      <td>Arsenal</td>\n",
       "      <td>117</td>\n",
       "      <td>43</td>\n",
       "    </tr>\n",
       "    <tr>\n",
       "      <th>9</th>\n",
       "      <td>Aubameyang</td>\n",
       "      <td>Corner</td>\n",
       "      <td>Goal</td>\n",
       "      <td>Arsenal</td>\n",
       "      <td>118</td>\n",
       "      <td>42</td>\n",
       "    </tr>\n",
       "    <tr>\n",
       "      <th>10</th>\n",
       "      <td>Aubameyang</td>\n",
       "      <td>Penalty</td>\n",
       "      <td>Goal</td>\n",
       "      <td>Arsenal</td>\n",
       "      <td>112</td>\n",
       "      <td>40</td>\n",
       "    </tr>\n",
       "    <tr>\n",
       "      <th>11</th>\n",
       "      <td>Aubameyang</td>\n",
       "      <td>OpenPlay</td>\n",
       "      <td>Goal</td>\n",
       "      <td>Arsenal</td>\n",
       "      <td>111</td>\n",
       "      <td>41</td>\n",
       "    </tr>\n",
       "    <tr>\n",
       "      <th>12</th>\n",
       "      <td>Aubameyang</td>\n",
       "      <td>OpenPlay</td>\n",
       "      <td>Goal</td>\n",
       "      <td>Arsenal</td>\n",
       "      <td>119</td>\n",
       "      <td>42</td>\n",
       "    </tr>\n",
       "    <tr>\n",
       "      <th>13</th>\n",
       "      <td>Aubameyang</td>\n",
       "      <td>OpenPlay</td>\n",
       "      <td>Goal</td>\n",
       "      <td>Arsenal</td>\n",
       "      <td>118</td>\n",
       "      <td>43</td>\n",
       "    </tr>\n",
       "    <tr>\n",
       "      <th>14</th>\n",
       "      <td>Aubameyang</td>\n",
       "      <td>Free Kick</td>\n",
       "      <td>Goal</td>\n",
       "      <td>Arsenal</td>\n",
       "      <td>94</td>\n",
       "      <td>52</td>\n",
       "    </tr>\n",
       "    <tr>\n",
       "      <th>15</th>\n",
       "      <td>Aubameyang</td>\n",
       "      <td>OpenPlay</td>\n",
       "      <td>Goal</td>\n",
       "      <td>Arsenal</td>\n",
       "      <td>115</td>\n",
       "      <td>41</td>\n",
       "    </tr>\n",
       "    <tr>\n",
       "      <th>16</th>\n",
       "      <td>Aubameyang</td>\n",
       "      <td>Free Kick</td>\n",
       "      <td>Saved</td>\n",
       "      <td>Arsenal</td>\n",
       "      <td>97</td>\n",
       "      <td>51</td>\n",
       "    </tr>\n",
       "    <tr>\n",
       "      <th>17</th>\n",
       "      <td>Aubameyang</td>\n",
       "      <td>Free Kick</td>\n",
       "      <td>Saved</td>\n",
       "      <td>Arsenal</td>\n",
       "      <td>99</td>\n",
       "      <td>49</td>\n",
       "    </tr>\n",
       "    <tr>\n",
       "      <th>18</th>\n",
       "      <td>Aubameyang</td>\n",
       "      <td>OpenPlay</td>\n",
       "      <td>Goal</td>\n",
       "      <td>Arsenal</td>\n",
       "      <td>117</td>\n",
       "      <td>38</td>\n",
       "    </tr>\n",
       "    <tr>\n",
       "      <th>19</th>\n",
       "      <td>Aubameyang</td>\n",
       "      <td>OpenPlay</td>\n",
       "      <td>Saved</td>\n",
       "      <td>Arsenal</td>\n",
       "      <td>118</td>\n",
       "      <td>41</td>\n",
       "    </tr>\n",
       "  </tbody>\n",
       "</table>\n",
       "</div>"
      ],
      "text/plain": [
       "          Name  Situation Result     Team  XSTART  YSTART\n",
       "0   Aubameyang   OpenPlay  Saved  Arsenal     113      40\n",
       "1   Aubameyang  Free Kick  Saved  Arsenal      96      51\n",
       "2   Aubameyang   OpenPlay   Goal  Arsenal     115      41\n",
       "3   Aubameyang   OpenPlay   Goal  Arsenal     116      39\n",
       "4   Aubameyang  Free Kick   Goal  Arsenal      95      53\n",
       "5   Aubameyang    Penalty   Goal  Arsenal     112      40\n",
       "6   Aubameyang    Penalty   Goal  Arsenal     112      40\n",
       "7   Aubameyang     Corner  Saved  Arsenal     118      43\n",
       "8   Aubameyang     Corner   Goal  Arsenal     117      43\n",
       "9   Aubameyang     Corner   Goal  Arsenal     118      42\n",
       "10  Aubameyang    Penalty   Goal  Arsenal     112      40\n",
       "11  Aubameyang   OpenPlay   Goal  Arsenal     111      41\n",
       "12  Aubameyang   OpenPlay   Goal  Arsenal     119      42\n",
       "13  Aubameyang   OpenPlay   Goal  Arsenal     118      43\n",
       "14  Aubameyang  Free Kick   Goal  Arsenal      94      52\n",
       "15  Aubameyang   OpenPlay   Goal  Arsenal     115      41\n",
       "16  Aubameyang  Free Kick  Saved  Arsenal      97      51\n",
       "17  Aubameyang  Free Kick  Saved  Arsenal      99      49\n",
       "18  Aubameyang   OpenPlay   Goal  Arsenal     117      38\n",
       "19  Aubameyang   OpenPlay  Saved  Arsenal     118      41"
      ]
     },
     "execution_count": 9,
     "metadata": {},
     "output_type": "execute_result"
    }
   ],
   "source": [
    "data = pd.read_excel(\"Shots.xlsx\")\n",
    "data"
   ]
  },
  {
   "cell_type": "code",
   "execution_count": 10,
   "metadata": {},
   "outputs": [],
   "source": [
    "def draw_pitch(ax, colour = None, edge = 'black'):\n",
    "    \n",
    "    Background = Rectangle([-10,-10], width = 135, height = 95, fill = False)\n",
    "    # Pitch Outline and Centre Line\n",
    "    Pitch = Rectangle([0,0], width = 120, height = 80, edgecolor = edge, fill = False)\n",
    "    \n",
    "    if colour:\n",
    "        Background = Rectangle([-10,-10], width = 135, height = 95, color = colour)\n",
    "        # Pitch Outline and Centre Line\n",
    "        Pitch = Rectangle([0,0], width = 120, height = 80, edgecolor = edge, facecolor = colour)\n",
    "    \n",
    "    # Left, Right Penalty Area and midline\n",
    "    LeftPenalty = Rectangle([0,18], width = 18, height = 44, edgecolor = edge, fill = False)\n",
    "    RightPenalty = Rectangle([102,18], width = 18, height = 44, edgecolor = edge, fill = False)\n",
    "    midline = ConnectionPatch([60,0], [60,80], 'data', 'data', color = edge)\n",
    "    \n",
    "    # Left, Right 6-yard Box\n",
    "    LeftSixYard = Rectangle([0,30], width = 6, height = 20, edgecolor = edge, fill = False)\n",
    "    RightSixYard = Rectangle([114,30], width = 6, height = 20, edgecolor = edge, fill = False)\n",
    "    \n",
    "    #Goals\n",
    "    LeftGoal = Rectangle([-3,36], width = 3, height = 8, linewidth = 1, edgecolor = 'black', fill = False)\n",
    "    RightGoal = Rectangle([120,36], width = 3, height = 8, linewidth = 1, edgecolor = 'black', fill = False)\n",
    "    \n",
    "    # Prepare Circles\n",
    "    centreCircle = plt.Circle((60,40), 8.1, color = edge, fill = False)\n",
    "    centreSpot = plt.Circle((60,40), 0.71, color = edge)\n",
    "    \n",
    "    # Penalty spots and Arcs around penalty boxes\n",
    "    leftPenSpot = plt.Circle((12,40), 0.71, color = edge)\n",
    "    rightPenSpot = plt.Circle((108,40), 0.71, color = edge)\n",
    "    leftArc = Arc((14, 40), height = 16.2, width = 16.2, angle = 0, theta1 = 300, theta2 = 60, color = edge)\n",
    "    rightArc = Arc((106, 40), height = 16.2, width = 16.2, angle = 0, theta1 = 120, theta2 = 240, color = edge)\n",
    "    \n",
    "    element = [Background, Pitch, LeftPenalty, RightPenalty, midline, LeftSixYard, RightSixYard, centreCircle, \n",
    "               centreSpot, rightPenSpot, leftPenSpot, leftArc, rightArc, LeftGoal, RightGoal]\n",
    "    for i in element:\n",
    "        ax.add_patch(i)"
   ]
  },
  {
   "cell_type": "code",
   "execution_count": 82,
   "metadata": {},
   "outputs": [
    {
     "data": {
      "image/png": "[encoded data removed]",
      "text/plain": [
       "<Figure size 864x504 with 1 Axes>"
      ]
     },
     "metadata": {
      "needs_background": "light"
     },
     "output_type": "display_data"
    },
    {
     "data": {
      "text/plain": [
       "Text(0.5, 1, 'Aubameyang ShotMap')"
      ]
     },
     "execution_count": 82,
     "metadata": {},
     "output_type": "execute_result"
    }
   ],
   "source": [
    "fig = plt.figure()\n",
    "fig.set_size_inches(12, 7)\n",
    "ax=fig.add_subplot(1, 1, 1)\n",
    "draw_pitch(ax, 'grey', 'skyblue')\n",
    "plt.ylim(-5, 85)\n",
    "plt.xlim(-5, 125)\n",
    "plt.axis('off')\n",
    "for j in range(len(data)):\n",
    "    plt.plot(int(data[\"XSTART\"][j]),int(data[\"YSTART\"][j]),\"o\",color=\"blue\",alpha=0.5)\n",
    "plt.show()\n",
    "ax.set_title(\"Aubameyang ShotMap\",size=16)"
   ]
  },
  {
   "cell_type": "code",
   "execution_count": 13,
   "metadata": {},
   "outputs": [],
   "source": [
    "import seaborn as sns"
   ]
  },
  {
   "cell_type": "code",
   "execution_count": 14,
   "metadata": {},
   "outputs": [
    {
     "data": {
      "image/png": "[encoded data removed]",
      "text/plain": [
       "<Figure size 1008x288 with 2 Axes>"
      ]
     },
     "metadata": {
      "needs_background": "light"
     },
     "output_type": "display_data"
    }
   ],
   "source": [
    "fig, ax = plt.subplots()\n",
    "fig.set_size_inches(14,4)\n",
    "\n",
    "#Plot One - distinct areas with few lines\n",
    "plt.subplot(121)\n",
    "sns.kdeplot(data[\"XSTART\"],data[\"YSTART\"], shade=\"True\", n_levels=5)\n",
    "\n",
    "#Plot Two - fade lines with more of them\n",
    "plt.subplot(122)\n",
    "sns.kdeplot(data[\"XSTART\"],data[\"YSTART\"], shade=\"True\", n_levels=40)\n",
    "\n",
    "plt.show()"
   ]
  },
  {
   "cell_type": "code",
   "execution_count": 81,
   "metadata": {},
   "outputs": [
    {
     "data": {
      "image/png": "[encoded data removed]",
      "text/plain": [
       "<Figure size 864x504 with 1 Axes>"
      ]
     },
     "metadata": {
      "needs_background": "light"
     },
     "output_type": "display_data"
    }
   ],
   "source": [
    "#Create figure\n",
    "fig=plt.figure()\n",
    "fig.set_size_inches(12, 7)\n",
    "ax=fig.add_subplot(1,1,1)\n",
    "\n",
    "#Pitch Outline & Centre Line\n",
    "plt.plot([0,0],[0,80], color=\"black\")\n",
    "plt.plot([0,120],[80,80], color=\"black\")\n",
    "plt.plot([120,120],[80,0], color=\"black\")\n",
    "plt.plot([120,0],[0,0], color=\"black\")\n",
    "plt.plot([60,60],[0,80], color=\"black\")\n",
    "\n",
    "#Left Pen Area\n",
    "plt.plot([0,18],[20,20],color='black')\n",
    "plt.plot([0,18],[60,60],color='black')\n",
    "plt.plot([18,18],[20,60],color='black')\n",
    "\n",
    "#Left 6-yard box\n",
    "plt.plot([0,6],[30,30],color='black')\n",
    "plt.plot([0,6],[50,50],color='black')\n",
    "plt.plot([6,6],[30,50],color='black')\n",
    "\n",
    "\n",
    "#Right Area Area\n",
    "plt.plot([120,102],[20,20],color='black')\n",
    "plt.plot([120,102],[60,60],color='black')\n",
    "plt.plot([102,102],[20,60],color='black')\n",
    "\n",
    "#Right 6-yard box\n",
    "plt.plot([120,114],[30,30],color='black')\n",
    "plt.plot([120,114],[50,50],color='black')\n",
    "plt.plot([114,114],[30,50],color='black')\n",
    "\n",
    "#Circles\n",
    "centreCircle = plt.Circle([60,40],radius=10,fill=False)\n",
    "centreSpot = plt.Circle([60,40],radius=1,color='black')\n",
    "leftPenSpot = plt.Circle([12,40],radius=0.8,color='black')\n",
    "rightPenSpot = plt.Circle([108,40],radius=0.8,color='black')\n",
    "\n",
    "\n",
    "\n",
    "#Draw Circles\n",
    "ax.add_patch(centreCircle)\n",
    "ax.add_patch(centreSpot)\n",
    "ax.add_patch(leftPenSpot)\n",
    "ax.add_patch(rightPenSpot)\n",
    "\n",
    "#Prepare Arcs\n",
    "leftArc = Arc((12,40),height=18.3,width=18.3,angle=0,theta1=310,theta2=50,color=\"black\")\n",
    "rightArc = Arc((108,40),height=18.3,width=18.3,angle=0,theta1=130,theta2=230,color=\"black\")\n",
    "\n",
    "#Draw Arcs\n",
    "ax.add_patch(leftArc)\n",
    "ax.add_patch(rightArc)\n",
    "\n",
    "#Tidy Axes\n",
    "plt.axis('off')\n",
    "\n",
    "sns.kdeplot(data[\"XSTART\"],data[\"YSTART\"], shade=True,n_levels=50)\n",
    "plt.ylim(0, 80)\n",
    "plt.xlim(0, 120)\n",
    "\n",
    "\n",
    "#Display Pitch\n",
    "plt.show()\n",
    "\n",
    "#plt.suptitle('Aubameyang Shot HeatMap',size=30,y=1.1)"
   ]
  },
  {
   "cell_type": "code",
   "execution_count": 85,
   "metadata": {},
   "outputs": [
    {
     "data": {
      "text/plain": [
       "0     False\n",
       "1     False\n",
       "2      True\n",
       "3      True\n",
       "4      True\n",
       "5      True\n",
       "6      True\n",
       "7     False\n",
       "8      True\n",
       "9      True\n",
       "10     True\n",
       "11     True\n",
       "12     True\n",
       "13     True\n",
       "14     True\n",
       "15     True\n",
       "16    False\n",
       "17    False\n",
       "18     True\n",
       "19    False\n",
       "Name: Result, dtype: bool"
      ]
     },
     "execution_count": 85,
     "metadata": {},
     "output_type": "execute_result"
    }
   ],
   "source": [
    "goal = (data['Result'] == 'Goal')\n",
    "goal"
   ]
  },
  {
   "cell_type": "code",
   "execution_count": 86,
   "metadata": {},
   "outputs": [
    {
     "data": {
      "text/plain": [
       "0      True\n",
       "1      True\n",
       "2     False\n",
       "3     False\n",
       "4     False\n",
       "5     False\n",
       "6     False\n",
       "7      True\n",
       "8     False\n",
       "9     False\n",
       "10    False\n",
       "11    False\n",
       "12    False\n",
       "13    False\n",
       "14    False\n",
       "15    False\n",
       "16     True\n",
       "17     True\n",
       "18    False\n",
       "19     True\n",
       "Name: Result, dtype: bool"
      ]
     },
     "execution_count": 86,
     "metadata": {},
     "output_type": "execute_result"
    }
   ],
   "source": [
    "saved = (data['Result'] == 'Saved')\n",
    "saved"
   ]
  },
  {
   "cell_type": "code",
   "execution_count": 111,
   "metadata": {},
   "outputs": [],
   "source": [
    "data['Results'] = data['Result'].apply(lambda x:1 if x=='Goal' else 0)"
   ]
  },
  {
   "cell_type": "code",
   "execution_count": 112,
   "metadata": {},
   "outputs": [
    {
     "data": {
      "text/html": [
       "<div>\n",
       "<style scoped>\n",
       "    .dataframe tbody tr th:only-of-type {\n",
       "        vertical-align: middle;\n",
       "    }\n",
       "\n",
       "    .dataframe tbody tr th {\n",
       "        vertical-align: top;\n",
       "    }\n",
       "\n",
       "    .dataframe thead th {\n",
       "        text-align: right;\n",
       "    }\n",
       "</style>\n",
       "<table border=\"1\" class=\"dataframe\">\n",
       "  <thead>\n",
       "    <tr style=\"text-align: right;\">\n",
       "      <th></th>\n",
       "      <th>Name</th>\n",
       "      <th>Situation</th>\n",
       "      <th>Result</th>\n",
       "      <th>Team</th>\n",
       "      <th>XSTART</th>\n",
       "      <th>YSTART</th>\n",
       "      <th>Results</th>\n",
       "    </tr>\n",
       "  </thead>\n",
       "  <tbody>\n",
       "    <tr>\n",
       "      <th>0</th>\n",
       "      <td>Aubameyang</td>\n",
       "      <td>OpenPlay</td>\n",
       "      <td>Saved</td>\n",
       "      <td>Arsenal</td>\n",
       "      <td>113</td>\n",
       "      <td>40</td>\n",
       "      <td>0</td>\n",
       "    </tr>\n",
       "    <tr>\n",
       "      <th>1</th>\n",
       "      <td>Aubameyang</td>\n",
       "      <td>Free Kick</td>\n",
       "      <td>Saved</td>\n",
       "      <td>Arsenal</td>\n",
       "      <td>96</td>\n",
       "      <td>51</td>\n",
       "      <td>0</td>\n",
       "    </tr>\n",
       "    <tr>\n",
       "      <th>2</th>\n",
       "      <td>Aubameyang</td>\n",
       "      <td>OpenPlay</td>\n",
       "      <td>Goal</td>\n",
       "      <td>Arsenal</td>\n",
       "      <td>115</td>\n",
       "      <td>41</td>\n",
       "      <td>1</td>\n",
       "    </tr>\n",
       "    <tr>\n",
       "      <th>3</th>\n",
       "      <td>Aubameyang</td>\n",
       "      <td>OpenPlay</td>\n",
       "      <td>Goal</td>\n",
       "      <td>Arsenal</td>\n",
       "      <td>116</td>\n",
       "      <td>39</td>\n",
       "      <td>1</td>\n",
       "    </tr>\n",
       "    <tr>\n",
       "      <th>4</th>\n",
       "      <td>Aubameyang</td>\n",
       "      <td>Free Kick</td>\n",
       "      <td>Goal</td>\n",
       "      <td>Arsenal</td>\n",
       "      <td>95</td>\n",
       "      <td>53</td>\n",
       "      <td>1</td>\n",
       "    </tr>\n",
       "  </tbody>\n",
       "</table>\n",
       "</div>"
      ],
      "text/plain": [
       "         Name  Situation Result     Team  XSTART  YSTART  Results\n",
       "0  Aubameyang   OpenPlay  Saved  Arsenal     113      40        0\n",
       "1  Aubameyang  Free Kick  Saved  Arsenal      96      51        0\n",
       "2  Aubameyang   OpenPlay   Goal  Arsenal     115      41        1\n",
       "3  Aubameyang   OpenPlay   Goal  Arsenal     116      39        1\n",
       "4  Aubameyang  Free Kick   Goal  Arsenal      95      53        1"
      ]
     },
     "execution_count": 112,
     "metadata": {},
     "output_type": "execute_result"
    }
   ],
   "source": [
    "data.head()"
   ]
  },
  {
   "cell_type": "code",
   "execution_count": 119,
   "metadata": {
    "scrolled": false
   },
   "outputs": [
    {
     "data": {
      "image/png": "[encoded data removed]",
      "text/plain": [
       "<Figure size 864x504 with 1 Axes>"
      ]
     },
     "metadata": {
      "needs_background": "light"
     },
     "output_type": "display_data"
    },
    {
     "data": {
      "text/plain": [
       "Text(0.5, 1, 'Aubameyang ShotMap')"
      ]
     },
     "execution_count": 119,
     "metadata": {},
     "output_type": "execute_result"
    }
   ],
   "source": [
    "fig = plt.figure()\n",
    "fig.set_size_inches(12, 7)\n",
    "ax=fig.add_subplot(1, 1, 1)\n",
    "draw_pitch(ax, 'grey', 'skyblue')\n",
    "plt.ylim(-5, 85)\n",
    "plt.xlim(-5, 125)\n",
    "plt.axis('off')\n",
    "for j in range(len(data)):\n",
    "    if (data['Result'][j] == 'Goal'):\n",
    "        plt.plot(int(data['XSTART'][j]),int(data['YSTART'][j]),\"o\",color='red')\n",
    "    else:\n",
    "        plt.plot(int(data['XSTART'][j]),int(data['YSTART'][j]),\"o\",color='blue')\n",
    "plt.show()\n",
    "ax.set_title(\"Aubameyang ShotMap\",size=16)"
   ]
  },
  {
   "cell_type": "code",
   "execution_count": 127,
   "metadata": {},
   "outputs": [
    {
     "data": {
      "image/png": "[encoded data removed]",
      "text/plain": [
       "<Figure size 864x504 with 1 Axes>"
      ]
     },
     "metadata": {
      "needs_background": "light"
     },
     "output_type": "display_data"
    },
    {
     "data": {
      "text/plain": [
       "Text(0, 0.5, 'Auba Goals')"
      ]
     },
     "execution_count": 127,
     "metadata": {},
     "output_type": "execute_result"
    }
   ],
   "source": [
    "#Create figure\n",
    "fig=plt.figure()\n",
    "fig.set_size_inches(12, 7)\n",
    "ax=fig.add_subplot(1,1,1)\n",
    "\n",
    "#Pitch Outline & Centre Line\n",
    "plt.plot([0,0],[0,80], color=\"black\")\n",
    "plt.plot([0,120],[80,80], color=\"black\")\n",
    "plt.plot([120,120],[80,0], color=\"black\")\n",
    "plt.plot([120,0],[0,0], color=\"black\")\n",
    "plt.plot([60,60],[0,80], color=\"black\")\n",
    "\n",
    "#Left Pen Area\n",
    "plt.plot([0,18],[20,20],color='black')\n",
    "plt.plot([0,18],[60,60],color='black')\n",
    "plt.plot([18,18],[20,60],color='black')\n",
    "\n",
    "#Left 6-yard box\n",
    "plt.plot([0,6],[30,30],color='black')\n",
    "plt.plot([0,6],[50,50],color='black')\n",
    "plt.plot([6,6],[30,50],color='black')\n",
    "\n",
    "\n",
    "#Right Area Area\n",
    "plt.plot([120,102],[20,20],color='black')\n",
    "plt.plot([120,102],[60,60],color='black')\n",
    "plt.plot([102,102],[20,60],color='black')\n",
    "\n",
    "#Right 6-yard box\n",
    "plt.plot([120,114],[30,30],color='black')\n",
    "plt.plot([120,114],[50,50],color='black')\n",
    "plt.plot([114,114],[30,50],color='black')\n",
    "\n",
    "#Circles\n",
    "centreCircle = plt.Circle([60,40],radius=10,fill=False)\n",
    "centreSpot = plt.Circle([60,40],radius=1,color='black')\n",
    "leftPenSpot = plt.Circle([12,40],radius=0.8,color='black')\n",
    "rightPenSpot = plt.Circle([108,40],radius=0.8,color='black')\n",
    "\n",
    "\n",
    "\n",
    "#Draw Circles\n",
    "ax.add_patch(centreCircle)\n",
    "ax.add_patch(centreSpot)\n",
    "ax.add_patch(leftPenSpot)\n",
    "ax.add_patch(rightPenSpot)\n",
    "\n",
    "#Prepare Arcs\n",
    "leftArc = Arc((12,40),height=18.3,width=18.3,angle=0,theta1=310,theta2=50,color=\"black\")\n",
    "rightArc = Arc((108,40),height=18.3,width=18.3,angle=0,theta1=130,theta2=230,color=\"black\")\n",
    "\n",
    "#Draw Arcs\n",
    "ax.add_patch(leftArc)\n",
    "ax.add_patch(rightArc)\n",
    "\n",
    "#Tidy Axes\n",
    "plt.axis('off')\n",
    "for j in range(len(data)):\n",
    "    if (data['Result'][j] == 'Goal'):\n",
    "        sns.kdeplot(data['XSTART'],data['YSTART'],shade=True,color='green')\n",
    "plt.ylim(0, 80)\n",
    "plt.xlim(0, 120)\n",
    "plt.show()\n",
    "ax.set_ylabel(\"Auba Goals\")"
   ]
  },
  {
   "cell_type": "code",
   "execution_count": 126,
   "metadata": {},
   "outputs": [
    {
     "data": {
      "image/png": "[encoded data removed]",
      "text/plain": [
       "<Figure size 864x504 with 1 Axes>"
      ]
     },
     "metadata": {
      "needs_background": "light"
     },
     "output_type": "display_data"
    },
    {
     "data": {
      "text/plain": [
       "Text(0, 0.5, 'Auba Shots Saved')"
      ]
     },
     "execution_count": 126,
     "metadata": {},
     "output_type": "execute_result"
    }
   ],
   "source": [
    "#Create figure\n",
    "fig=plt.figure()\n",
    "fig.set_size_inches(12, 7)\n",
    "ax=fig.add_subplot(1,1,1)\n",
    "\n",
    "#Pitch Outline & Centre Line\n",
    "plt.plot([0,0],[0,80], color=\"black\")\n",
    "plt.plot([0,120],[80,80], color=\"black\")\n",
    "plt.plot([120,120],[80,0], color=\"black\")\n",
    "plt.plot([120,0],[0,0], color=\"black\")\n",
    "plt.plot([60,60],[0,80], color=\"black\")\n",
    "\n",
    "#Left Pen Area\n",
    "plt.plot([0,18],[20,20],color='black')\n",
    "plt.plot([0,18],[60,60],color='black')\n",
    "plt.plot([18,18],[20,60],color='black')\n",
    "\n",
    "#Left 6-yard box\n",
    "plt.plot([0,6],[30,30],color='black')\n",
    "plt.plot([0,6],[50,50],color='black')\n",
    "plt.plot([6,6],[30,50],color='black')\n",
    "\n",
    "\n",
    "#Right Area Area\n",
    "plt.plot([120,102],[20,20],color='black')\n",
    "plt.plot([120,102],[60,60],color='black')\n",
    "plt.plot([102,102],[20,60],color='black')\n",
    "\n",
    "#Right 6-yard box\n",
    "plt.plot([120,114],[30,30],color='black')\n",
    "plt.plot([120,114],[50,50],color='black')\n",
    "plt.plot([114,114],[30,50],color='black')\n",
    "\n",
    "#Circles\n",
    "centreCircle = plt.Circle([60,40],radius=10,fill=False)\n",
    "centreSpot = plt.Circle([60,40],radius=1,color='black')\n",
    "leftPenSpot = plt.Circle([12,40],radius=0.8,color='black')\n",
    "rightPenSpot = plt.Circle([108,40],radius=0.8,color='black')\n",
    "\n",
    "\n",
    "\n",
    "#Draw Circles\n",
    "ax.add_patch(centreCircle)\n",
    "ax.add_patch(centreSpot)\n",
    "ax.add_patch(leftPenSpot)\n",
    "ax.add_patch(rightPenSpot)\n",
    "\n",
    "#Prepare Arcs\n",
    "leftArc = Arc((12,40),height=18.3,width=18.3,angle=0,theta1=310,theta2=50,color=\"black\")\n",
    "rightArc = Arc((108,40),height=18.3,width=18.3,angle=0,theta1=130,theta2=230,color=\"black\")\n",
    "\n",
    "#Draw Arcs\n",
    "ax.add_patch(leftArc)\n",
    "ax.add_patch(rightArc)\n",
    "\n",
    "#Tidy Axes\n",
    "plt.axis('off')\n",
    "for j in range(len(data)):\n",
    "    if (data['Result'][j] == 'Saved'):\n",
    "        sns.kdeplot(data['XSTART'],data['YSTART'],shade=True,color='blue')\n",
    "plt.ylim(0, 80)\n",
    "plt.xlim(0, 120)\n",
    "plt.show()\n",
    "ax.set_ylabel(\"Auba Shots Saved\")"
   ]
  },
  {
   "cell_type": "code",
   "execution_count": null,
   "metadata": {},
   "outputs": [],
   "source": []
  }
 ],
 "metadata": {
  "kernelspec": {
   "display_name": "Python 3",
   "language": "python",
   "name": "python3"
  },
  "language_info": {
   "codemirror_mode": {
    "name": "ipython",
    "version": 3
   },
   "file_extension": ".py",
   "mimetype": "text/x-python",
   "name": "python",
   "nbconvert_exporter": "python",
   "pygments_lexer": "ipython3",
   "version": "3.7.6"
  }
 },
 "nbformat": 4,
 "nbformat_minor": 4
}
