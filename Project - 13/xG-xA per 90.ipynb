{
 "cells": [
  {
   "cell_type": "code",
   "execution_count": 1,
   "metadata": {},
   "outputs": [],
   "source": [
    "import pandas as pd\n",
    "import matplotlib.pyplot as plt\n",
    "import numpy as np"
   ]
  },
  {
   "cell_type": "code",
   "execution_count": 14,
   "metadata": {},
   "outputs": [
    {
     "data": {
      "text/html": [
       "<div>\n",
       "<style scoped>\n",
       "    .dataframe tbody tr th:only-of-type {\n",
       "        vertical-align: middle;\n",
       "    }\n",
       "\n",
       "    .dataframe tbody tr th {\n",
       "        vertical-align: top;\n",
       "    }\n",
       "\n",
       "    .dataframe thead th {\n",
       "        text-align: right;\n",
       "    }\n",
       "</style>\n",
       "<table border=\"1\" class=\"dataframe\">\n",
       "  <thead>\n",
       "    <tr style=\"text-align: right;\">\n",
       "      <th></th>\n",
       "      <th>Name</th>\n",
       "      <th>Minutes</th>\n",
       "      <th>Goals</th>\n",
       "      <th>Assists</th>\n",
       "    </tr>\n",
       "  </thead>\n",
       "  <tbody>\n",
       "    <tr>\n",
       "      <th>0</th>\n",
       "      <td>P.E. Aubamenyang</td>\n",
       "      <td>2732</td>\n",
       "      <td>22</td>\n",
       "      <td>5</td>\n",
       "    </tr>\n",
       "    <tr>\n",
       "      <th>1</th>\n",
       "      <td>Harry Kane</td>\n",
       "      <td>2427</td>\n",
       "      <td>17</td>\n",
       "      <td>4</td>\n",
       "    </tr>\n",
       "    <tr>\n",
       "      <th>2</th>\n",
       "      <td>M. Salah</td>\n",
       "      <td>3262</td>\n",
       "      <td>22</td>\n",
       "      <td>8</td>\n",
       "    </tr>\n",
       "    <tr>\n",
       "      <th>3</th>\n",
       "      <td>S. Mane</td>\n",
       "      <td>3086</td>\n",
       "      <td>22</td>\n",
       "      <td>1</td>\n",
       "    </tr>\n",
       "    <tr>\n",
       "      <th>4</th>\n",
       "      <td>R. Streling</td>\n",
       "      <td>2777</td>\n",
       "      <td>17</td>\n",
       "      <td>9</td>\n",
       "    </tr>\n",
       "    <tr>\n",
       "      <th>5</th>\n",
       "      <td>S. Aguero</td>\n",
       "      <td>2480</td>\n",
       "      <td>21</td>\n",
       "      <td>8</td>\n",
       "    </tr>\n",
       "    <tr>\n",
       "      <th>6</th>\n",
       "      <td>R. Lewandowski</td>\n",
       "      <td>2959</td>\n",
       "      <td>22</td>\n",
       "      <td>7</td>\n",
       "    </tr>\n",
       "    <tr>\n",
       "      <th>7</th>\n",
       "      <td>K. Mbappe</td>\n",
       "      <td>2342</td>\n",
       "      <td>33</td>\n",
       "      <td>7</td>\n",
       "    </tr>\n",
       "    <tr>\n",
       "      <th>8</th>\n",
       "      <td>E. Hazard</td>\n",
       "      <td>2926</td>\n",
       "      <td>16</td>\n",
       "      <td>15</td>\n",
       "    </tr>\n",
       "  </tbody>\n",
       "</table>\n",
       "</div>"
      ],
      "text/plain": [
       "               Name  Minutes  Goals  Assists\n",
       "0  P.E. Aubamenyang     2732     22        5\n",
       "1        Harry Kane     2427     17        4\n",
       "2          M. Salah     3262     22        8\n",
       "3           S. Mane     3086     22        1\n",
       "4       R. Streling     2777     17        9\n",
       "5        S. Aguero      2480     21        8\n",
       "6    R. Lewandowski     2959     22        7\n",
       "7         K. Mbappe     2342     33        7\n",
       "8        E. Hazard      2926     16       15"
      ]
     },
     "execution_count": 14,
     "metadata": {},
     "output_type": "execute_result"
    }
   ],
   "source": [
    "data = pd.read_excel(\"players.xlsx\")\n",
    "data"
   ]
  },
  {
   "cell_type": "code",
   "execution_count": 28,
   "metadata": {},
   "outputs": [],
   "source": [
    "for i in range(len(data)):\n",
    "        total_90s_played = data['Minutes']/90;\n",
    "        xG = data['Goals']/total_90s_played;\n",
    "        "
   ]
  },
  {
   "cell_type": "code",
   "execution_count": 29,
   "metadata": {},
   "outputs": [
    {
     "data": {
      "text/plain": [
       "0    0.724744\n",
       "1    0.630408\n",
       "2    0.606990\n",
       "3    0.641607\n",
       "4    0.550954\n",
       "5    0.762097\n",
       "6    0.669145\n",
       "7    1.268147\n",
       "8    0.492139\n",
       "dtype: float64"
      ]
     },
     "execution_count": 29,
     "metadata": {},
     "output_type": "execute_result"
    }
   ],
   "source": [
    "xG"
   ]
  },
  {
   "cell_type": "code",
   "execution_count": 30,
   "metadata": {},
   "outputs": [],
   "source": [
    "xG = np.asarray(xG)"
   ]
  },
  {
   "cell_type": "code",
   "execution_count": 31,
   "metadata": {},
   "outputs": [
    {
     "data": {
      "text/plain": [
       "array([0.72474378, 0.63040791, 0.60698958, 0.64160726, 0.55095427,\n",
       "       0.76209677, 0.66914498, 1.26814688, 0.49213944])"
      ]
     },
     "execution_count": 31,
     "metadata": {},
     "output_type": "execute_result"
    }
   ],
   "source": [
    "xG"
   ]
  },
  {
   "cell_type": "code",
   "execution_count": 134,
   "metadata": {},
   "outputs": [
    {
     "data": {
      "image/png": "[encoded data removed]",
      "text/plain": [
       "<Figure size 720x504 with 1 Axes>"
      ]
     },
     "metadata": {
      "needs_background": "light"
     },
     "output_type": "display_data"
    }
   ],
   "source": [
    "fig = plt.figure()\n",
    "fig.set_size_inches(10,7)\n",
    "ax = fig.add_subplot(1,1,1)\n",
    "\n",
    "ax.scatter(xG,data['Minutes'],color='g')\n",
    "plt.xlabel(\"xG per 90\",size=15)\n",
    "plt.ylabel(\"Total minutes played\",size=15)\n",
    "\n",
    "plt.plot([0.1,1.3],[data['Minutes'].mean(),data['Minutes'].mean()],'k-',linestyle=\":\",lw=1)\n",
    "plt.plot([xG.mean(),xG.mean()],[2400,3200],'k-',lw=1,linestyle=\":\")\n",
    "\n",
    "plt.text(1.1,2350,\"Lethal Striker\",color='red')\n",
    "plt.text(1.1,3200,\"Very Good Striker\",color='red')\n",
    "plt.text(0.2,2350,\"Good Striker\",color='red')\n",
    "plt.text(0.2,3200,\"Poor Striker\",color='red')\n",
    "\n",
    "for i,txt in enumerate(data['Name']):\n",
    "    ax.annotate(txt,(xG[i],data['Minutes'][i]))\n",
    "    "
   ]
  },
  {
   "cell_type": "code",
   "execution_count": 41,
   "metadata": {},
   "outputs": [],
   "source": [
    "for i in range(len(data)):\n",
    "        total_90s_played = data['Minutes']/90;\n",
    "        xA = data['Assists']/total_90s_played;"
   ]
  },
  {
   "cell_type": "code",
   "execution_count": 42,
   "metadata": {},
   "outputs": [
    {
     "data": {
      "text/plain": [
       "0    0.164714\n",
       "1    0.148331\n",
       "2    0.220723\n",
       "3    0.029164\n",
       "4    0.291682\n",
       "5    0.290323\n",
       "6    0.212910\n",
       "7    0.269001\n",
       "8    0.461381\n",
       "dtype: float64"
      ]
     },
     "execution_count": 42,
     "metadata": {},
     "output_type": "execute_result"
    }
   ],
   "source": [
    "xA"
   ]
  },
  {
   "cell_type": "code",
   "execution_count": 43,
   "metadata": {},
   "outputs": [],
   "source": [
    "xA = np.asarray(xA)"
   ]
  },
  {
   "cell_type": "code",
   "execution_count": 44,
   "metadata": {},
   "outputs": [
    {
     "data": {
      "text/plain": [
       "array([0.16471449, 0.14833127, 0.22072348, 0.02916397, 0.29168167,\n",
       "       0.29032258, 0.21290977, 0.26900085, 0.46138072])"
      ]
     },
     "execution_count": 44,
     "metadata": {},
     "output_type": "execute_result"
    }
   ],
   "source": [
    "xA"
   ]
  },
  {
   "cell_type": "code",
   "execution_count": 119,
   "metadata": {},
   "outputs": [
    {
     "data": {
      "image/png": "[encoded data removed]",
      "text/plain": [
       "<Figure size 720x504 with 1 Axes>"
      ]
     },
     "metadata": {
      "needs_background": "light"
     },
     "output_type": "display_data"
    }
   ],
   "source": [
    "fig = plt.figure()\n",
    "fig.set_size_inches(10,7)\n",
    "ax = fig.add_subplot(1,1,1)\n",
    "\n",
    "ax.scatter(xA,data['Minutes'],color='g')\n",
    "plt.xlabel(\"xA per 90\",size=15)\n",
    "plt.ylabel(\"Total minutes played\",size=15)\n",
    "plt.plot([0,0.4],[data['Minutes'].mean(),data['Minutes'].mean()],'k-',linestyle=\":\",lw=1)\n",
    "plt.plot([xA.mean(),xA.mean()],[2200,3500],'k-',lw=1,linestyle=\":\")\n",
    "\n",
    "plt.text(0.37,3500,\"World Class Creator\",color='red')\n",
    "plt.text(0.37,2200,\"Good Creator\",color='red')\n",
    "plt.text(0.02,2200,\"Average Creator\",color='red')\n",
    "plt.text(0.02,3500,\"Poor Creator\",color='red')\n",
    "\n",
    "for i,txt in enumerate(data['Name']):\n",
    "    ax.annotate(txt,(xA[i],data['Minutes'][i]))"
   ]
  },
  {
   "cell_type": "code",
   "execution_count": null,
   "metadata": {},
   "outputs": [],
   "source": []
  }
 ],
 "metadata": {
  "kernelspec": {
   "display_name": "Python 3",
   "language": "python",
   "name": "python3"
  },
  "language_info": {
   "codemirror_mode": {
    "name": "ipython",
    "version": 3
   },
   "file_extension": ".py",
   "mimetype": "text/x-python",
   "name": "python",
   "nbconvert_exporter": "python",
   "pygments_lexer": "ipython3",
   "version": "3.7.6"
  }
 },
 "nbformat": 4,
 "nbformat_minor": 4
}
