{
 "cells": [
  {
   "cell_type": "code",
   "execution_count": 7,
   "metadata": {},
   "outputs": [],
   "source": [
    "import random\n",
    "import numpy as np"
   ]
  },
  {
   "cell_type": "code",
   "execution_count": 8,
   "metadata": {},
   "outputs": [
    {
     "name": "stdout",
     "output_type": "stream",
     "text": [
      "0.3415884073633202\n",
      "5\n",
      "15\n"
     ]
    }
   ],
   "source": [
    "print(random.random())\n",
    "print(random.randint(1,9))\n",
    "print(int(random.random()*100))"
   ]
  },
  {
   "cell_type": "markdown",
   "metadata": {},
   "source": [
    "xG(Expected goals) is the measure the number of goals team could've scored based on number of shot they took.\n",
    "Let’s set up our lists of shots with their expected goal values:"
   ]
  },
  {
   "cell_type": "code",
   "execution_count": 9,
   "metadata": {},
   "outputs": [],
   "source": [
    "HomexG = [0.21,0.66,0.1,0.14,0.01]\n",
    "AwayxG = [0.04,0.06,0.01,0.04,0.06,0.12,0.01,0.06]"
   ]
  },
  {
   "cell_type": "markdown",
   "metadata": {},
   "source": [
    "The first shot of home team had a 21% chance of going in."
   ]
  },
  {
   "cell_type": "code",
   "execution_count": 10,
   "metadata": {},
   "outputs": [
    {
     "name": "stdout",
     "output_type": "stream",
     "text": [
      "MISSED\n"
     ]
    }
   ],
   "source": [
    "if random.random()<=0.21:\n",
    "    print(\"GOAL\")\n",
    "else:\n",
    "    print(\"MISSED\")"
   ]
  },
  {
   "cell_type": "code",
   "execution_count": 11,
   "metadata": {},
   "outputs": [
    {
     "name": "stdout",
     "output_type": "stream",
     "text": [
      "2068\n"
     ]
    }
   ],
   "source": [
    "Goals = 0\n",
    "\n",
    "for i in range(0,10000):\n",
    "    if random.random()<=0.21:\n",
    "        Goals += 1\n",
    "\n",
    "print(Goals)"
   ]
  },
  {
   "cell_type": "code",
   "execution_count": 16,
   "metadata": {},
   "outputs": [],
   "source": [
    "def calculateWinner(home,away):\n",
    "    \n",
    "    HomeGoals = 0\n",
    "    AwayGoals = 0\n",
    "    \n",
    "    def testShots(shots):\n",
    "        \n",
    "        Goals = 0\n",
    "        for shot in shots:\n",
    "            if random.random() <= shot:\n",
    "                Goals += 1\n",
    "                \n",
    "        #return the number of goals\n",
    "        return Goals\n",
    "    \n",
    "    HomeGoals = testShots(home)\n",
    "    AwayGoals = testShots(away)\n",
    "    \n",
    "    if HomeGoals > AwayGoals:\n",
    "        print(\"Home Wins! {} - {}\".format(HomeGoals, AwayGoals))\n",
    "    elif AwayGoals > HomeGoals:\n",
    "        print(\"Away Wins! {} - {}\".format(HomeGoals, AwayGoals))\n",
    "    else:\n",
    "        print(\"Share of the points! {} - {}\".format(HomeGoals, AwayGoals))"
   ]
  },
  {
   "cell_type": "code",
   "execution_count": 27,
   "metadata": {},
   "outputs": [
    {
     "name": "stdout",
     "output_type": "stream",
     "text": [
      "Home Wins! 2 - 1\n"
     ]
    }
   ],
   "source": [
    "calculateWinner([0.8,0.4,.08,0.3,0.64],[0.2,0.05,0.83,0.12,0.56])"
   ]
  },
  {
   "cell_type": "code",
   "execution_count": null,
   "metadata": {},
   "outputs": [],
   "source": []
  },
  {
   "cell_type": "code",
   "execution_count": null,
   "metadata": {},
   "outputs": [],
   "source": []
  }
 ],
 "metadata": {
  "kernelspec": {
   "display_name": "Python 3",
   "language": "python",
   "name": "python3"
  },
  "language_info": {
   "codemirror_mode": {
    "name": "ipython",
    "version": 3
   },
   "file_extension": ".py",
   "mimetype": "text/x-python",
   "name": "python",
   "nbconvert_exporter": "python",
   "pygments_lexer": "ipython3",
   "version": "3.7.6"
  }
 },
 "nbformat": 4,
 "nbformat_minor": 4
}
