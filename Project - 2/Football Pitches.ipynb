{
 "cells": [
  {
   "cell_type": "code",
   "execution_count": 1,
   "metadata": {},
   "outputs": [],
   "source": [
    "import matplotlib.pyplot as plt\n",
    "from matplotlib.patches import Arc"
   ]
  },
  {
   "cell_type": "code",
   "execution_count": 15,
   "metadata": {},
   "outputs": [
    {
     "data": {
      "image/png": "[encoded data removed]",
      "text/plain": [
       "<Figure size 432x288 with 1 Axes>"
      ]
     },
     "metadata": {
      "needs_background": "light"
     },
     "output_type": "display_data"
    }
   ],
   "source": [
    "fig=plt.figure()\n",
    "ax=fig.add_subplot(1,1,1)\n",
    "\n",
    "plt.plot([0,0],[0,90], color=\"blue\")\n",
    "plt.plot([0,130],[90,90], color=\"orange\")\n",
    "plt.plot([130,130],[90,0], color=\"green\")\n",
    "plt.plot([130,0],[0,0], color=\"red\")\n",
    "plt.plot([65,65],[0,90], color=\"pink\")\n",
    "\n",
    "plt.show()"
   ]
  },
  {
   "cell_type": "code",
   "execution_count": 20,
   "metadata": {},
   "outputs": [
    {
     "data": {
      "image/png": "[encoded data removed]",
      "text/plain": [
       "<Figure size 432x288 with 1 Axes>"
      ]
     },
     "metadata": {
      "needs_background": "light"
     },
     "output_type": "display_data"
    }
   ],
   "source": [
    "fig=plt.figure()\n",
    "ax=fig.add_subplot(1,1,1)\n",
    "\n",
    "plt.plot([0,0],[0,90], color=\"blue\")\n",
    "plt.plot([0,130],[90,90], color=\"orange\")\n",
    "plt.plot([130,130],[90,0], color=\"green\")\n",
    "plt.plot([130,0],[0,0], color=\"red\")\n",
    "plt.plot([65,65],[0,90], color=\"pink\")\n",
    "centreCircle = plt.Circle((65,45),9.15,color=\"red\",fill=False)\n",
    "centreSpot = plt.Circle((65,45),0.8,color=\"blue\")\n",
    "ax.add_patch(centreCircle)\n",
    "ax.add_patch(centreSpot)\n",
    "plt.show()"
   ]
  },
  {
   "cell_type": "code",
   "execution_count": 26,
   "metadata": {},
   "outputs": [
    {
     "data": {
      "image/png": "[encoded data removed]",
      "text/plain": [
       "<Figure size 432x288 with 1 Axes>"
      ]
     },
     "metadata": {
      "needs_background": "light"
     },
     "output_type": "display_data"
    }
   ],
   "source": [
    "fig=plt.figure()\n",
    "ax=fig.add_subplot(1,1,1)\n",
    "\n",
    "plt.plot([0,0],[0,90], color=\"blue\")\n",
    "plt.plot([0,130],[90,90], color=\"orange\")\n",
    "plt.plot([130,130],[90,0], color=\"green\")\n",
    "plt.plot([130,0],[0,0], color=\"red\")\n",
    "plt.plot([65,65],[0,90], color=\"pink\")\n",
    "centreCircle = plt.Circle((65,45),9.15,color=\"red\",fill=False)\n",
    "centreSpot = plt.Circle((65,45),0.8,color=\"blue\")\n",
    "ax.add_patch(centreCircle)\n",
    "ax.add_patch(centreSpot)\n",
    "\n",
    "#Left Penalty Area\n",
    "plt.plot([16.5,16.5],[65,25],color=\"black\")\n",
    "plt.plot([0,16.5],[65,65],color=\"black\")\n",
    "plt.plot([16.5,0],[25,25],color=\"black\")\n",
    "\n",
    "leftArc = Arc((11,45),height=18.3,width=18.3,angle=0,theta1=310,theta2=50,color=\"red\")\n",
    "\n",
    "ax.add_patch(leftArc)\n",
    "\n",
    "plt.show()"
   ]
  },
  {
   "cell_type": "code",
   "execution_count": 59,
   "metadata": {},
   "outputs": [
    {
     "data": {
      "image/png": "[encoded data removed]",
      "text/plain": [
       "<Figure size 432x288 with 1 Axes>"
      ]
     },
     "metadata": {
      "needs_background": "light"
     },
     "output_type": "display_data"
    }
   ],
   "source": [
    "fig=plt.figure()\n",
    "ax=fig.add_subplot(1,1,1)\n",
    "\n",
    "#Touchlines\n",
    "plt.plot([0,0],[0,90], color=\"blue\")\n",
    "plt.plot([0,130],[90,90], color=\"orange\")\n",
    "plt.plot([130,130],[90,0], color=\"green\")\n",
    "plt.plot([130,0],[0,0], color=\"red\")\n",
    "plt.plot([65,65],[0,90], color=\"pink\")\n",
    "\n",
    "#Centre Circle and Centre Spot\n",
    "centreCircle = plt.Circle((65,45),9.15,color=\"red\",fill=False)\n",
    "centreSpot = plt.Circle((65,45),0.8,color=\"blue\")\n",
    "ax.add_patch(centreCircle)\n",
    "ax.add_patch(centreSpot)\n",
    "\n",
    "#Left Penalty Area\n",
    "plt.plot([16.5,16.5],[65,25],color=\"black\")\n",
    "plt.plot([0,16.5],[65,65],color=\"black\")\n",
    "plt.plot([16.5,0],[25,25],color=\"black\")\n",
    "\n",
    "\n",
    "#Right Penalty Area\n",
    "plt.plot([115.5,115.5],[65,25],color=\"black\")\n",
    "plt.plot([115.5,130],[25,25],color=\"black\")\n",
    "plt.plot([115.5,130],[65,65],color=\"black\")\n",
    "\n",
    "#Penalty Arcs\n",
    "leftArc = Arc((11,45),height=18.3,width=18.3,angle=0,theta1=310,theta2=50,color=\"red\")\n",
    "rightArc = Arc((121,45),height=18.3,width=18.3,angle=0,theta1=130,theta2=230,color=\"red\")\n",
    "\n",
    "ax.add_patch(leftArc)\n",
    "ax.add_patch(rightArc)\n",
    "\n",
    "plt.show()"
   ]
  },
  {
   "cell_type": "code",
   "execution_count": null,
   "metadata": {},
   "outputs": [],
   "source": []
  }
 ],
 "metadata": {
  "kernelspec": {
   "display_name": "Python 3",
   "language": "python",
   "name": "python3"
  },
  "language_info": {
   "codemirror_mode": {
    "name": "ipython",
    "version": 3
   },
   "file_extension": ".py",
   "mimetype": "text/x-python",
   "name": "python",
   "nbconvert_exporter": "python",
   "pygments_lexer": "ipython3",
   "version": "3.7.4"
  }
 },
 "nbformat": 4,
 "nbformat_minor": 2
}
